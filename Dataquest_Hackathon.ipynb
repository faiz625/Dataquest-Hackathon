{
  "nbformat": 4,
  "nbformat_minor": 0,
  "metadata": {
    "colab": {
      "provenance": []
    },
    "kernelspec": {
      "name": "python3",
      "display_name": "Python 3"
    },
    "language_info": {
      "name": "python"
    }
  },
  "cells": [
    {
      "cell_type": "code",
      "source": [
        "import pandas as pd\n",
        "from sklearn.model_selection import train_test_split, RandomizedSearchCV\n",
        "from sklearn.preprocessing import LabelEncoder\n",
        "from sklearn.ensemble import RandomForestClassifier\n",
        "from sklearn.metrics import accuracy_score, precision_score, recall_score, f1_score\n",
        "from google.colab import drive\n",
        "\n",
        "import joblib\n",
        "from tqdm import tqdm\n",
        "\n",
        "# Load data from CSV file\n",
        "df = pd.read_excel('train_data.xlsx')\n",
        "\n",
        "# Convert ArrivalDate column to datetime\n",
        "df['ArrivalDate'] = pd.to_datetime(df['ArrivalDate'])\n",
        "\n",
        "# Create a new feature indicating whether LeadTime is greater than 65 or not\n",
        "df['LongLeadTime'] = (df['LeadTime'] > 65).astype(int)\n",
        "\n",
        "# Convert ArrivalDate column to datetime\n",
        "df['ArrivalDate'] = pd.to_datetime(df['ArrivalDate'])\n",
        "\n",
        "# Extract month from ArrivalDate and create a new column\n",
        "df['ArrivalMonth'] = df['ArrivalDate'].dt.month\n",
        "\n",
        "# Create a new feature indicating whether ArrivalMonth is between 4 and 9 or not\n",
        "df['ArrivalMonth_4_9'] = ((df['ArrivalMonth'] > 4) & (df['ArrivalMonth'] < 9)).astype(int)\n",
        "\n",
        "\n",
        "# Define features and target variable\n",
        "X = df.drop(['BookingStatus', 'ArrivalDate'], axis=1)\n",
        "y = df['BookingStatus']\n",
        "\n",
        "# Encode categorical features\n",
        "cat_cols = ['MarketSegment', 'MealPlan', 'RoomType']\n",
        "for col in cat_cols:\n",
        "    encoder = LabelEncoder()\n",
        "    X[col] = encoder.fit_transform(X[col])\n",
        "\n",
        "# Add features based on relationship with target variable\n",
        "X['MarketSegment_Online'] = (X['MarketSegment'] == 'Online').astype(int)\n",
        "X['RoomType_1'] = (X['RoomType'] == 'Room_Type 1').astype(int)\n",
        "X['WeekendStay'] = (X['NumWeekendNights'] == 0).astype(int)\n",
        "\n",
        "# Scale AvgRoomPrice and NumWeekNights features to a common scale\n",
        "from sklearn.preprocessing import StandardScaler\n",
        "scaler = StandardScaler()\n",
        "X[['AvgRoomPrice', 'NumWeekNights']] = scaler.fit_transform(X[['AvgRoomPrice', 'NumWeekNights']])\n",
        "\n",
        "# Define a random forest model\n",
        "model = RandomForestClassifier(random_state=42)\n",
        "\n",
        "# Define hyperparameters for randomized search\n",
        "param_dist = {\n",
        "    'n_estimators': [50, 100, 200],\n",
        "    'max_depth': [None, 5, 10],\n",
        "    'min_samples_split': [2, 5, 10]\n",
        "}\n",
        "\n",
        "# Perform randomized search to find the best hyperparameters\n",
        "random_search = RandomizedSearchCV(model, param_distributions=param_dist, n_iter=10, cv=5, n_jobs=-1)\n",
        "random_search.fit(X, y)\n",
        "model = random_search.best_estimator_\n",
        "\n",
        "# Split data into training and testing sets using stratified sampling\n",
        "X_train, X_test, y_train, y_test = train_test_split(X, y, test_size=0.2, random_state=42, stratify=y)\n",
        "\n",
        "# Train the model with the best hyperparameters\n",
        "for epoch in tqdm(range(1), desc=\"Training\"):\n",
        "    model.fit(X_train, y_train)\n",
        "\n",
        "# Make predictions on testing data using predict_proba method\n",
        "y_prob = model.predict_proba(X_test)\n",
        "y_pred = (y_prob[:, 1] >= 0.4).astype(int)  # Adjust threshold to improve recall\n",
        "\n",
        "accuracy = accuracy_score(y_test, y_pred)\n",
        "precision = precision_score(y_test, y_pred, pos_label=1)\n",
        "recall = recall_score(y_test, y_pred, pos_label=1)\n",
        "f1 = f1_score(y_test, y_pred, pos_label=1)\n",
        "\n",
        "# Print updated model performance metrics\n",
        "print('Updated Model Performance Metrics:')\n",
        "print('Accuracy:', accuracy)\n",
        "print('Precision:', precision)\n",
        "print('Recall:', recall)\n",
        "print('F1 Score:', f1)\n",
        "\n",
        "# Calculate the confusion matrix\n",
        "from sklearn.metrics import confusion_matrix\n",
        "conf_matrix = confusion_matrix(y_test, y_pred)\n",
        "\n",
        "# Calculate the true positive, true negative, false positive, and false negative rates\n",
        "tn, fp, fn, tp = confusion_matrix(y_test, y_pred).ravel()\n",
        "tpr = tp / (tp + fn)\n",
        "tnr = tn / (tn + fp)\n",
        "fpr = fp / (fp + tn)\n",
        "fnr = fn / (fn + tp)\n",
        "\n",
        "# Print model performance metrics and confusion matrix\n",
        "print('Confusion Matrix:')\n",
        "print(conf_matrix)\n",
        "print('True Positive Rate:', tpr)\n",
        "print('True Negative Rate:', tnr)\n",
        "print('False Positive Rate:', fpr)\n",
        "print('False Negative Rate:', fnr)\n",
        "\n",
        "# Save model\n",
        "joblib.dump(model, 'hotel_cancellation_model.pkl')"
      ],
      "metadata": {
        "colab": {
          "base_uri": "https://localhost:8080/"
        },
        "id": "eIVV25zScVXm",
        "outputId": "1568e85c-e8f1-4f23-f0e5-dcbf8e365b35"
      },
      "execution_count": null,
      "outputs": [
        {
          "output_type": "stream",
          "name": "stderr",
          "text": [
            "Training: 100%|██████████| 1/1 [00:06<00:00,  6.36s/it]\n"
          ]
        },
        {
          "output_type": "stream",
          "name": "stdout",
          "text": [
            "Updated Model Performance Metrics:\n",
            "Accuracy: 0.8800827015851137\n",
            "Precision: 0.8103802672147996\n",
            "Recall: 0.8282563025210085\n",
            "F1 Score: 0.8192207792207793\n",
            "Confusion Matrix:\n",
            "[[3531  369]\n",
            " [ 327 1577]]\n",
            "True Positive Rate: 0.8282563025210085\n",
            "True Negative Rate: 0.9053846153846153\n",
            "False Positive Rate: 0.09461538461538462\n",
            "False Negative Rate: 0.1717436974789916\n"
          ]
        },
        {
          "output_type": "execute_result",
          "data": {
            "text/plain": [
              "['hotel_cancellation_model.pkl']"
            ]
          },
          "metadata": {},
          "execution_count": 53
        }
      ]
    }
  ]
}